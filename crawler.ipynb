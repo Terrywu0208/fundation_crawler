{
 "cells": [
  {
   "cell_type": "code",
   "execution_count": 2,
   "metadata": {},
   "outputs": [
    {
     "name": "stderr",
     "output_type": "stream",
     "text": [
      "c:\\Users\\User\\AppData\\Local\\Programs\\Python\\Python39\\lib\\site-packages\\requests\\__init__.py:109: RequestsDependencyWarning: urllib3 (2.0.2) or chardet (4.0.0)/charset_normalizer (2.0.12) doesn't match a supported version!\n",
      "  warnings.warn(\n"
     ]
    }
   ],
   "source": [
    "import requests\n",
    "from bs4 import BeautifulSoup\n",
    "import pandas as pd\n",
    "import time\n",
    "import random"
   ]
  },
  {
   "cell_type": "code",
   "execution_count": null,
   "metadata": {},
   "outputs": [],
   "source": [
    "code_ls = []\n",
    "for i in range(313,495):\n",
    "    url = f\"https://www.npo.org.tw/npolist.aspx?nowPage={i}\"\n",
    "    df = pd.read_html(url)\n",
    "    code_ls.extend(list(df[0][\"機構代碼\"]))\n",
    "    print(f\"======= Page {i} ==========\")\n",
    "    time.sleep(1)"
   ]
  },
  {
   "cell_type": "code",
   "execution_count": null,
   "metadata": {},
   "outputs": [],
   "source": [
    "code_book = {\"code\":code_ls}\n",
    "code_book = pd.DataFrame(code_book)\n",
    "code_book.to_csv(\"313-494-code-book.csv\")"
   ]
  },
  {
   "cell_type": "code",
   "execution_count": null,
   "metadata": {},
   "outputs": [],
   "source": [
    "rq = requests.get(\"https://www.npo.org.tw/orgnpointroduction.aspx?tid=200&orgid=7753\")\n",
    "bs = BeautifulSoup(rq.text)\n",
    "bs"
   ]
  },
  {
   "cell_type": "code",
   "execution_count": null,
   "metadata": {},
   "outputs": [],
   "source": [
    "ls =[i for i in (bs.select(\".intro_list\")[0].text).split(\"\\n\") if \"：\" in i ]"
   ]
  },
  {
   "cell_type": "code",
   "execution_count": null,
   "metadata": {},
   "outputs": [],
   "source": [
    "tmp = {}\n",
    "for i in ls:\n",
    "    each_col = i.split(\"：\")\n",
    "    tmp[each_col[0]] =each_col[1]"
   ]
  },
  {
   "cell_type": "code",
   "execution_count": null,
   "metadata": {},
   "outputs": [],
   "source": [
    "f1 = pd.read_csv(\"1-312-code-book.csv\", index_col=0)\n",
    "f2 = pd.read_csv(\"313-494-code-book.csv\", index_col=0)\n",
    "new_csv = pd.concat([f1,f2])\n",
    "new_csv.to_csv(\"all_code.csv\", index=0)"
   ]
  },
  {
   "cell_type": "code",
   "execution_count": 29,
   "metadata": {},
   "outputs": [
    {
     "name": "stdout",
     "output_type": "stream",
     "text": [
      "======== code    finished  id =>     1    =======\n",
      "======== code    finished  id =>     2    =======\n",
      "======== code    finished  id =>     3    =======\n",
      "======== code    finished  id =>     4    =======\n",
      "======== code    finished  id =>     5    =======\n",
      "======== code    finished  id =>     6    =======\n",
      "======== code    finished  id =>     7    =======\n",
      "======== code    finished  id =>     8    =======\n",
      "======== code    finished  id =>     9    =======\n",
      "======== code    finished  id =>    10    =======\n",
      "======== code    finished  id =>    11    =======\n",
      "======== code    finished  id =>    12    =======\n",
      "======== code    finished  id =>    13    =======\n",
      "======== code    finished  id =>    14    =======\n",
      "======== code    finished  id =>    15    =======\n",
      "======== code    finished  id =>    16    =======\n",
      "======== code    finished  id =>    17    =======\n",
      "======== code    finished  id =>    18    =======\n",
      "======== code    finished  id =>    19    =======\n",
      "======== code    finished  id =>    20    =======\n",
      "======== code    finished  id =>    21    =======\n",
      "======== code    finished  id =>    22    =======\n",
      "======== code    finished  id =>    23    =======\n",
      "======== code    finished  id =>    24    =======\n",
      "======== code    finished  id =>    25    =======\n",
      "======== code    finished  id =>    26    =======\n",
      "======== code    finished  id =>    27    =======\n",
      "======== code    finished  id =>    28    =======\n",
      "======== code    finished  id =>    29    =======\n",
      "======== code    finished  id =>    30    =======\n",
      "======== code    finished  id =>    31    =======\n",
      "======== code    finished  id =>    32    =======\n",
      "======== code    finished  id =>    33    =======\n",
      "======== code    finished  id =>    34    =======\n",
      "======== code    finished  id =>    35    =======\n",
      "======== code    finished  id =>    36    =======\n",
      "======== code    finished  id =>    37    =======\n",
      "======== code    finished  id =>    38    =======\n",
      "======== code    finished  id =>    39    =======\n",
      "======== code    finished  id =>    40    =======\n",
      "======== code    finished  id =>    41    =======\n",
      "======== code    finished  id =>    42    =======\n",
      "======== code    finished  id =>    43    =======\n",
      "======== code    finished  id =>    44    =======\n",
      "======== code    finished  id =>    45    =======\n",
      "======== code    finished  id =>    46    =======\n",
      "======== code    finished  id =>    47    =======\n",
      "======== code    finished  id =>    48    =======\n",
      "======== code    finished  id =>    49    =======\n",
      "======== code    finished  id =>    50    =======\n",
      "======== code    finished  id =>    51    =======\n",
      "======== code    finished  id =>    52    =======\n",
      "======== code    finished  id =>    53    =======\n",
      "======== code    finished  id =>    54    =======\n",
      "======== code    finished  id =>    55    =======\n",
      "======== code    finished  id =>    56    =======\n",
      "======== code    finished  id =>    57    =======\n",
      "======== code    finished  id =>    58    =======\n",
      "======== code    finished  id =>    59    =======\n",
      "======== code    finished  id =>    60    =======\n",
      "======== code    finished  id =>    61    =======\n",
      "======== code    finished  id =>    63    =======\n",
      "======== code    finished  id =>    64    =======\n",
      "======== code    finished  id =>    65    =======\n",
      "======== code    finished  id =>    66    =======\n",
      "======== code    finished  id =>    67    =======\n",
      "======== code    finished  id =>    68    =======\n",
      "======== code    finished  id =>    69    =======\n"
     ]
    },
    {
     "ename": "KeyboardInterrupt",
     "evalue": "",
     "output_type": "error",
     "traceback": [
      "\u001b[1;31m---------------------------------------------------------------------------\u001b[0m",
      "\u001b[1;31mKeyboardInterrupt\u001b[0m                         Traceback (most recent call last)",
      "\u001b[1;32m<ipython-input-29-f7c3a66bd914>\u001b[0m in \u001b[0;36m<module>\u001b[1;34m\u001b[0m\n\u001b[0;32m    102\u001b[0m     \u001b[1;32mexcept\u001b[0m\u001b[1;33m:\u001b[0m\u001b[1;33m\u001b[0m\u001b[1;33m\u001b[0m\u001b[0m\n\u001b[0;32m    103\u001b[0m         \u001b[0mloss\u001b[0m\u001b[1;33m.\u001b[0m\u001b[0mappend\u001b[0m\u001b[1;33m(\u001b[0m\u001b[0mcode\u001b[0m\u001b[1;33m)\u001b[0m\u001b[1;33m\u001b[0m\u001b[1;33m\u001b[0m\u001b[0m\n\u001b[1;32m--> 104\u001b[1;33m     \u001b[0mtime\u001b[0m\u001b[1;33m.\u001b[0m\u001b[0msleep\u001b[0m\u001b[1;33m(\u001b[0m\u001b[0mrandom\u001b[0m\u001b[1;33m.\u001b[0m\u001b[0muniform\u001b[0m\u001b[1;33m(\u001b[0m\u001b[1;36m5\u001b[0m\u001b[1;33m,\u001b[0m \u001b[1;36m10\u001b[0m\u001b[1;33m)\u001b[0m\u001b[1;33m)\u001b[0m\u001b[1;33m\u001b[0m\u001b[1;33m\u001b[0m\u001b[0m\n\u001b[0m\u001b[0;32m    105\u001b[0m     \u001b[0mresult_count\u001b[0m\u001b[1;33m+=\u001b[0m\u001b[1;36m1\u001b[0m\u001b[1;33m\u001b[0m\u001b[1;33m\u001b[0m\u001b[0m\n\u001b[0;32m    106\u001b[0m     \u001b[1;32mif\u001b[0m \u001b[0mresult_count\u001b[0m\u001b[1;33m%\u001b[0m\u001b[1;36m20\u001b[0m\u001b[1;33m==\u001b[0m\u001b[1;36m0\u001b[0m\u001b[1;33m:\u001b[0m\u001b[1;33m\u001b[0m\u001b[1;33m\u001b[0m\u001b[0m\n",
      "\u001b[1;31mKeyboardInterrupt\u001b[0m: "
     ]
    }
   ],
   "source": [
    "\n",
    "# header = {\n",
    "#     \"User-Agent\" : \"Mozilla/5.0 (Windows NT 10.0; Win64; x64) AppleWebKit/537.36 (KHTML, like Gecko) Chrome/77.0.3865.90 Safari/537.36\"\n",
    "# }\n",
    "\n",
    "headers_list = [\n",
    "    {\n",
    "        'user-agent': 'Mozilla/5.0 (iPhone; CPU iPhone OS 13_2_3 like Mac OS X) AppleWebKit/605.1.15 (KHTML, like Gecko) Version/13.0.3 Mobile/15E148 Safari/604.1'\n",
    "    }, {\n",
    "        'user-agent': 'Mozilla/5.0 (Linux; Android 8.0.0; SM-G955U Build/R16NW) AppleWebKit/537.36 (KHTML, like Gecko) Chrome/87.0.4280.141 Mobile Safari/537.36'\n",
    "    }, {\n",
    "        'user-agent': 'Mozilla/5.0 (Linux; Android 10; SM-G981B) AppleWebKit/537.36 (KHTML, like Gecko) Chrome/80.0.3987.162 Mobile Safari/537.36'\n",
    "    }, {\n",
    "        'user-agent': 'Mozilla/5.0 (iPad; CPU OS 13_3 like Mac OS X) AppleWebKit/605.1.15 (KHTML, like Gecko) CriOS/87.0.4280.77 Mobile/15E148 Safari/604.1'\n",
    "    }, {\n",
    "        'user-agent': 'Mozilla/5.0 (Linux; Android 8.0; Pixel 2 Build/OPD3.170816.012) AppleWebKit/537.36 (KHTML, like Gecko) Chrome/102.0.0.0 Mobile Safari/537.36'\n",
    "    }, {\n",
    "        'user-agent': 'Mozilla/5.0 (Linux; Android) AppleWebKit/537.36 (KHTML, like Gecko) Chrome/88.0.4324.109 Safari/537.36 CrKey/1.54.248666'\n",
    "    }, {\n",
    "        'user-agent': 'Mozilla/5.0 (X11; Linux aarch64) AppleWebKit/537.36 (KHTML, like Gecko) Chrome/88.0.4324.188 Safari/537.36 CrKey/1.54.250320'\n",
    "    }, {\n",
    "        'user-agent': 'Mozilla/5.0 (BB10; Touch) AppleWebKit/537.10+ (KHTML, like Gecko) Version/10.0.9.2372 Mobile Safari/537.10+'\n",
    "    }, {\n",
    "        'user-agent': 'Mozilla/5.0 (PlayBook; U; RIM Tablet OS 2.1.0; en-US) AppleWebKit/536.2+ (KHTML like Gecko) Version/7.2.1.0 Safari/536.2+'\n",
    "    }, {\n",
    "        'user-agent': 'Mozilla/5.0 (Linux; U; Android 4.3; en-us; SM-N900T Build/JSS15J) AppleWebKit/534.30 (KHTML, like Gecko) Version/4.0 Mobile Safari/534.30'\n",
    "    }, {\n",
    "        'user-agent': 'Mozilla/5.0 (Linux; U; Android 4.1; en-us; GT-N7100 Build/JRO03C) AppleWebKit/534.30 (KHTML, like Gecko) Version/4.0 Mobile Safari/534.30'\n",
    "    }, {\n",
    "        'user-agent': 'Mozilla/5.0 (Linux; U; Android 4.0; en-us; GT-I9300 Build/IMM76D) AppleWebKit/534.30 (KHTML, like Gecko) Version/4.0 Mobile Safari/534.30'\n",
    "    }, {\n",
    "        'user-agent': 'Mozilla/5.0 (Linux; Android 7.0; SM-G950U Build/NRD90M) AppleWebKit/537.36 (KHTML, like Gecko) Chrome/62.0.3202.84 Mobile Safari/537.36'\n",
    "    }, {\n",
    "        'user-agent': 'Mozilla/5.0 (Linux; Android 8.0.0; SM-G965U Build/R16NW) AppleWebKit/537.36 (KHTML, like Gecko) Chrome/63.0.3239.111 Mobile Safari/537.36'\n",
    "    }, {\n",
    "        'user-agent': 'Mozilla/5.0 (Linux; Android 8.1.0; SM-T837A) AppleWebKit/537.36 (KHTML, like Gecko) Chrome/70.0.3538.80 Safari/537.36'\n",
    "    }, {\n",
    "        'user-agent': 'Mozilla/5.0 (Linux; U; en-us; KFAPWI Build/JDQ39) AppleWebKit/535.19 (KHTML, like Gecko) Silk/3.13 Safari/535.19 Silk-Accelerated=true'\n",
    "    }, {\n",
    "        'user-agent': 'Mozilla/5.0 (Linux; U; Android 4.4.2; en-us; LGMS323 Build/KOT49I.MS32310c) AppleWebKit/537.36 (KHTML, like Gecko) Version/4.0 Chrome/102.0.0.0 Mobile Safari/537.36'\n",
    "    }, {\n",
    "        'user-agent': 'Mozilla/5.0 (Windows Phone 10.0; Android 4.2.1; Microsoft; Lumia 550) AppleWebKit/537.36 (KHTML, like Gecko) Chrome/46.0.2486.0 Mobile Safari/537.36 Edge/14.14263'\n",
    "    }, {\n",
    "        'user-agent': 'Mozilla/5.0 (Linux; Android 6.0.1; Moto G (4)) AppleWebKit/537.36 (KHTML, like Gecko) Chrome/102.0.0.0 Mobile Safari/537.36'\n",
    "    }, {\n",
    "        'user-agent': 'Mozilla/5.0 (Linux; Android 6.0.1; Nexus 10 Build/MOB31T) AppleWebKit/537.36 (KHTML, like Gecko) Chrome/102.0.0.0 Safari/537.36'\n",
    "    }, {\n",
    "        'user-agent': 'Mozilla/5.0 (Linux; Android 4.4.2; Nexus 4 Build/KOT49H) AppleWebKit/537.36 (KHTML, like Gecko) Chrome/102.0.0.0 Mobile Safari/537.36'\n",
    "    }, {\n",
    "        'user-agent': 'Mozilla/5.0 (Linux; Android 6.0; Nexus 5 Build/MRA58N) AppleWebKit/537.36 (KHTML, like Gecko) Chrome/102.0.0.0 Mobile Safari/537.36'\n",
    "    }, {\n",
    "        'user-agent': 'Mozilla/5.0 (Linux; Android 8.0.0; Nexus 5X Build/OPR4.170623.006) AppleWebKit/537.36 (KHTML, like Gecko) Chrome/102.0.0.0 Mobile Safari/537.36'\n",
    "    }, {\n",
    "        'user-agent': 'Mozilla/5.0 (Linux; Android 7.1.1; Nexus 6 Build/N6F26U) AppleWebKit/537.36 (KHTML, like Gecko) Chrome/102.0.0.0 Mobile Safari/537.36'\n",
    "    }, {\n",
    "        'user-agent': 'Mozilla/5.0 (Linux; Android 8.0.0; Nexus 6P Build/OPP3.170518.006) AppleWebKit/537.36 (KHTML, like Gecko) Chrome/102.0.0.0 Mobile Safari/537.36'\n",
    "    }, {\n",
    "        'user-agent': 'Mozilla/5.0 (Linux; Android 6.0.1; Nexus 7 Build/MOB30X) AppleWebKit/537.36 (KHTML, like Gecko) Chrome/102.0.0.0 Safari/537.36'\n",
    "    }, {\n",
    "        'user-agent': 'Mozilla/5.0 (compatible; MSIE 10.0; Windows Phone 8.0; Trident/6.0; IEMobile/10.0; ARM; Touch; NOKIA; Lumia 520)'\n",
    "    }, {\n",
    "        'user-agent': 'Mozilla/5.0 (MeeGo; NokiaN9) AppleWebKit/534.13 (KHTML, like Gecko) NokiaBrowser/8.5.0 Mobile Safari/534.13'\n",
    "    }, {\n",
    "        'user-agent': 'Mozilla/5.0 (Linux; Android 9; Pixel 3 Build/PQ1A.181105.017.A1) AppleWebKit/537.36 (KHTML, like Gecko) Chrome/66.0.3359.158 Mobile Safari/537.36'\n",
    "    }, {\n",
    "        'user-agent': 'Mozilla/5.0 (Linux; Android 10; Pixel 4) AppleWebKit/537.36 (KHTML, like Gecko) Chrome/81.0.4044.138 Mobile Safari/537.36'\n",
    "    }, {\n",
    "        'user-agent': 'Mozilla/5.0 (Linux; Android 11; Pixel 3) AppleWebKit/537.36 (KHTML, like Gecko) Chrome/88.0.4324.181 Mobile Safari/537.36'\n",
    "    }, {\n",
    "        'user-agent': 'Mozilla/5.0 (Linux; Android 5.0; SM-G900P Build/LRX21T) AppleWebKit/537.36 (KHTML, like Gecko) Chrome/102.0.0.0 Mobile Safari/537.36'\n",
    "    }, {\n",
    "        'user-agent': 'Mozilla/5.0 (Linux; Android 8.0; Pixel 2 Build/OPD3.170816.012) AppleWebKit/537.36 (KHTML, like Gecko) Chrome/102.0.0.0 Mobile Safari/537.36'\n",
    "    }, {\n",
    "        'user-agent': 'Mozilla/5.0 (Linux; Android 8.0.0; Pixel 2 XL Build/OPD1.170816.004) AppleWebKit/537.36 (KHTML, like Gecko) Chrome/102.0.0.0 Mobile Safari/537.36'\n",
    "    }, {\n",
    "        'user-agent': 'Mozilla/5.0 (iPhone; CPU iPhone OS 10_3_1 like Mac OS X) AppleWebKit/603.1.30 (KHTML, like Gecko) Version/10.0 Mobile/14E304 Safari/602.1'\n",
    "    }, {\n",
    "        'user-agent': 'Mozilla/5.0 (iPhone; CPU iPhone OS 13_2_3 like Mac OS X) AppleWebKit/605.1.15 (KHTML, like Gecko) Version/13.0.3 Mobile/15E148 Safari/604.1'\n",
    "    }, {\n",
    "        'user-agent': 'Mozilla/5.0 (iPad; CPU OS 11_0 like Mac OS X) AppleWebKit/604.1.34 (KHTML, like Gecko) Version/11.0 Mobile/15A5341f Safari/604.1'\n",
    "    }\n",
    "]\n",
    "\n",
    "\n",
    "ip_list = pd.read_csv(\"Free_Proxy_List.csv\")\n",
    "all_code = pd.read_csv(\"all_code.csv\", index_col=0).reset_index()\n",
    "all_code = all_code[\"code\"]\n",
    "all_result = {}\n",
    "result_count = 1\n",
    "loss = []\n",
    "for code in range(1,7755):\n",
    "    try:\n",
    "        headers = random.choice(headers_list)\n",
    "        rq = requests.get(f\"https://www.npo.org.tw/orgnpointroduction.aspx?tid=200&orgid={code}\", headers=headers)\n",
    "        bs = BeautifulSoup(rq.text)\n",
    "        ls =[i for i in (bs.select(\".intro_list\")[0].text).split(\"\\n\") if \"：\" in i ]\n",
    "        tmp = {}\n",
    "        for i in ls:\n",
    "            each_col = i.split(\"：\")\n",
    "            tmp[each_col[0]] =each_col[1]\n",
    "        all_result[code]=tmp\n",
    "        print(f\"======== code    finished  id => {code:5}    =======\")\n",
    "    except:\n",
    "        loss.append(code)\n",
    "    time.sleep(random.uniform(5, 10))\n",
    "    result_count+=1\n",
    "    if result_count%20==0:\n",
    "        final_df = pd.DataFrame(all_result).T\n",
    "        final_df.to_csv(f\"./result/foundation_info_{code}.csv\", index=0)"
   ]
  },
  {
   "cell_type": "code",
   "execution_count": 26,
   "metadata": {},
   "outputs": [
    {
     "data": {
      "text/plain": [
       "7425"
      ]
     },
     "execution_count": 26,
     "metadata": {},
     "output_type": "execute_result"
    }
   ],
   "source": [
    "len(all_code)"
   ]
  },
  {
   "cell_type": "code",
   "execution_count": 14,
   "metadata": {},
   "outputs": [],
   "source": [
    "all_code = pd.read_csv(\"all_code.csv\", index_col=0)"
   ]
  },
  {
   "cell_type": "code",
   "execution_count": 21,
   "metadata": {},
   "outputs": [
    {
     "name": "stdout",
     "output_type": "stream",
     "text": [
      "Empty DataFrame\n",
      "Columns: []\n",
      "Index: [7753, 7752, 7751, 7750, 7749, 7748, 7747, 7746, 7745, 7744, 7743, 7742, 7741, 7740, 7739, 7738, 7737, 7736, 7735, 7734, 7733, 7732, 7731, 7730, 7729, 7728, 7727, 7726, 7725, 7724, 7723, 7722, 7721, 7720, 7719, 7718, 7717, 7716, 7715, 7714, 7713, 7712, 7711, 7710, 7709, 7708, 7707, 7706, 7705, 7704, 7703, 7702, 7701, 7700, 7699, 7698, 7697, 7696, 7695, 7694, 7693, 7692, 7691, 7690, 7689, 7688, 7687, 7686, 7685, 7684, 7683, 7682, 7681, 7680, 7679, 7678, 7677, 7676, 7675, 7674, 7673, 7672, 7671, 7670, 7669, 7668, 7667, 7666, 7665, 7664, 7663, 7662, 7661, 7660, 7659, 7658, 7657, 7656, 7655, 7654, ...]\n",
      "\n",
      "[1485 rows x 0 columns]\n",
      "Empty DataFrame\n",
      "Columns: []\n",
      "Index: [6215, 6214, 6213, 6212, 6211, 6210, 6209, 6208, 6207, 6205, 6204, 6203, 6202, 6201, 6200, 6199, 6198, 6197, 6196, 6195, 6194, 6193, 6190, 6189, 6188, 6186, 6184, 6183, 6182, 6181, 6180, 6179, 6178, 6177, 6174, 6173, 6172, 6171, 6170, 6169, 6168, 6167, 6166, 6165, 6162, 6161, 6160, 6159, 6158, 6157, 6155, 6154, 6153, 6152, 6151, 6150, 6149, 6148, 6147, 6146, 6145, 6144, 6143, 6142, 6141, 6140, 6139, 6138, 6137, 6135, 6134, 6133, 6132, 6131, 6130, 6129, 6128, 6126, 6125, 6124, 6123, 6122, 6117, 6116, 6115, 6114, 6113, 6112, 6111, 6110, 6109, 6108, 6107, 6106, 6105, 6104, 6101, 6100, 6098, 6097, ...]\n",
      "\n",
      "[1485 rows x 0 columns]\n",
      "Empty DataFrame\n",
      "Columns: []\n",
      "Index: [2873, 2124, 2743, 2742, 2741, 2740, 2126, 2123, 2738, 2737, 2122, 2805, 2804, 2121, 2735, 2734, 2732, 2731, 2120, 2119, 2729, 2728, 2117, 2941, 2940, 2939, 2938, 2718, 2118, 2116, 2716, 2715, 2714, 2115, 2802, 2800, 2799, 2798, 2114, 2113, 2796, 2795, 2794, 2793, 2112, 2111, 2791, 2790, 2789, 2788, 2787, 2110, 2109, 2871, 2870, 2869, 2868, 2867, 2108, 2107, 2785, 2784, 2783, 2782, 2106, 2105, 2780, 2779, 2104, 3017, 3015, 3014, 3013, 2103, 2102, 2777, 2776, 2100, 2774, 2099, 2865, 2864, 2863, 2862, 2861, 2101, 2098, 2772, 2771, 2097, 2859, 2858, 2857, 2856, 2096, 2095, 2936, 2935, 2094, 2854, ...]\n",
      "\n",
      "[1485 rows x 0 columns]\n",
      "Empty DataFrame\n",
      "Columns: []\n",
      "Index: [1615, 1614, 4328, 4327, 4326, 1613, 1612, 4431, 4430, 4429, 1611, 1610, 4424, 4423, 4422, 1609, 1608, 4524, 4413, 1607, 4481, 4480, 4479, 1606, 1605, 4411, 4410, 4409, 1604, 1603, 4579, 4578, 1602, 4477, 4476, 1601, 4385, 4384, 4383, 1600, 1599, 4381, 4380, 1598, 4473, 4472, 1596, 4522, 4521, 4520, 1597, 1595, 4470, 4469, 1593, 4623, 4572, 1594, 1592, 4467, 4466, 4465, 1591, 1590, 4463, 4462, 4461, 1589, 1588, 4459, 4458, 1587, 1586, 4518, 4517, 1584, 4808, 4564, 4563, 4562, 1585, 1583, 4515, 1581, 4513, 4512, 1580, 4558, 4557, 1582, 1579, 4510, 4509, 1578, 1577, 4507, 4506, 1576, 1575, 4615, ...]\n",
      "\n",
      "[1485 rows x 0 columns]\n",
      "Empty DataFrame\n",
      "Columns: []\n",
      "Index: [773, 5843, 5840, 5838, 774, 772, 5835, 771, 5830, 770, 769, 5828, 767, 5825, 766, 5821, 765, 5816, 768, 764, 5814, 5808, 761, 5798, 5796, 762, 760, 5794, 5790, 759, 758, 5786, 5781, 757, 5778, 755, 5775, 5771, 756, 753, 5760, 752, 5758, 750, 5748, 5745, 751, 749, 5736, 748, 5734, 5730, 747, 746, 5722, 744, 5710, 745, 743, 5707, 742, 741, 5704, 5702, 740, 738, 5700, 5698, 5690, 736, 735, 5680, 5676, 734, 733, 5671, 732, 5669, 730, 5667, 728, 5665, 727, 5662, 725, 5658, 5654, 726, 724, 5652, 723, 722, 721, 5650, 719, 5647, 5643, 718, 5640, 717, ...]\n",
      "\n",
      "[1485 rows x 0 columns]\n"
     ]
    }
   ],
   "source": [
    "all_code = pd.read_csv(\"all_code.csv\", index_col=0)\n",
    "for i in range(0,len(all_code),1485):\n",
    "    tmp = all_code[i:i+1485]\n",
    "    tmp.to_csv(f\"./code_book/{i}_{i+1484}.csv\")\n",
    "    print(tmp)"
   ]
  },
  {
   "cell_type": "code",
   "execution_count": 20,
   "metadata": {},
   "outputs": [
    {
     "name": "stdout",
     "output_type": "stream",
     "text": [
      "Empty DataFrame\n",
      "Columns: []\n",
      "Index: [7752, 7751, 7750, 7749, 7748, 7747, 7746, 7745, 7744, 7743, 7742, 7741, 7740, 7739, 7738, 7737, 7736, 7735, 7734, 7733, 7732, 7731, 7730, 7729, 7728, 7727, 7726, 7725, 7724, 7723, 7722, 7721, 7720, 7719, 7718, 7717, 7716, 7715, 7714, 7713, 7712, 7711, 7710, 7709, 7708, 7707, 7706, 7705, 7704, 7703, 7702, 7701, 7700, 7699, 7698, 7697, 7696, 7695, 7694, 7693, 7692, 7691, 7690, 7689, 7688, 7687, 7686, 7685, 7684, 7683, 7682, 7681, 7680, 7679, 7678, 7677, 7676, 7675, 7674, 7673, 7672, 7671, 7670, 7669, 7668, 7667, 7666, 7665, 7664, 7663, 7662, 7661, 7660, 7659, 7658, 7657, 7656, 7655, 7654]\n",
      "\n",
      "[99 rows x 0 columns]\n"
     ]
    }
   ],
   "source": [
    "print(all_code[1:100])"
   ]
  }
 ],
 "metadata": {
  "kernelspec": {
   "display_name": "Python 3",
   "language": "python",
   "name": "python3"
  },
  "language_info": {
   "codemirror_mode": {
    "name": "ipython",
    "version": 3
   },
   "file_extension": ".py",
   "mimetype": "text/x-python",
   "name": "python",
   "nbconvert_exporter": "python",
   "pygments_lexer": "ipython3",
   "version": "3.9.5"
  },
  "orig_nbformat": 4
 },
 "nbformat": 4,
 "nbformat_minor": 2
}
